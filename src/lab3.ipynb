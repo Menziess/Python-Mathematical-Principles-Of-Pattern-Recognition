{
 "cells": [
  {
   "cell_type": "markdown",
   "metadata": {},
   "source": [
    "## Mathematical Principles in Pattern Recognition (2017/2018)\n",
    "$\\newcommand{\\bPhi}{\\mathbf{\\Phi}}$\n",
    "$\\newcommand{\\bb}{\\mathbf{b}}$\n",
    "$\\newcommand{\\bx}{\\mathbf{x}}$\n",
    "$\\newcommand{\\bw}{\\mathbf{w}}$\n",
    "$\\newcommand{\\bt}{\\mathbf{t}}$\n",
    "$\\newcommand{\\by}{\\mathbf{y}}$\n",
    "$\\newcommand{\\bm}{\\mathbf{m}}$\n",
    "$\\newcommand{\\bS}{\\mathbf{S}}$\n",
    "$\\newcommand{\\bI}{\\mathbf{I}}$\n",
    "$\\newcommand{\\bA}{\\mathbf{A}}$\n",
    "$\\newcommand{\\bQ}{\\mathbf{Q}}$\n",
    "$\\newcommand{\\bR}{\\mathbf{R}}$\n",
    "$\\newcommand{\\bX}{\\mathbf{X}}$\n",
    "$\\newcommand{\\bSigma}{\\boldsymbol{\\Sigma}}$\n",
    "$\\newcommand{\\bmu}{\\boldsymbol{\\mu}}$\n",
    "$\\newcommand{\\bpi}{\\boldsymbol{\\pi}}$"
   ]
  },
  {
   "cell_type": "markdown",
   "metadata": {},
   "source": [
    "# Lab 3\n",
    "\n",
    "In the computer labs we will work with the Python programming language within a Jupyter notebook. Each week a new notebook is made available that contains the exercises that are to be handed-in. \n",
    "\n",
    "* It is expected that you work in pairs but individual submissions are allowed.\n",
    "* Only one of each pair has to submit on blackboard. Make sure that you add the student ID of your partner in the submission comments.\n",
    "* The main notebook file you submit should read \"Lab[number]_[last name 1]_[last name 2].ipynb\", for example \"Lab2_Bongers_Versteeg.ipynb\". \n",
    "* Please make sure your code will run without problems!\n",
    "\n",
    "Feel free ask any questions during the computer lab sessions, or email the TA, Elise (e.e.vanderpol@uva.nl).\n",
    "\n",
    "**The due date for the labs is Friday, Sep 29 at 15:00**"
   ]
  },
  {
   "cell_type": "code",
   "execution_count": 1,
   "metadata": {},
   "outputs": [
    {
     "name": "stdout",
     "output_type": "stream",
     "text": [
      "Populating the interactive namespace from numpy and matplotlib\n"
     ]
    }
   ],
   "source": [
    "%pylab inline"
   ]
  },
  {
   "cell_type": "markdown",
   "metadata": {},
   "source": [
    "## 1 Maximum likelihood estimation\n",
    "In this exercise, our goal is to use maximum likelihood estimation with gradient descent to estimate the probability density by using of a set of  samples drawn from a multivariate Gaussian. \n",
    "\n",
    "Note: even though there exists a close form solution for this case, we will go the academic route and use numerical optimization anyway."
   ]
  },
  {
   "cell_type": "markdown",
   "metadata": {},
   "source": [
    "### 1.1 Multivariate Gaussian\n",
    "**[5 points]** Draw 250 samples from a multivariate Gaussian with parameters\n",
    "$$\n",
    "\\bmu =\n",
    "\\begin{pmatrix}\n",
    "        0.3 \\\\\n",
    "        -1.8 \\\\\n",
    "\\end{pmatrix}\\mathrm{;\\ }\n",
    "\\bSigma =\n",
    "\\begin{pmatrix}\n",
    "        2.1 & 1.3 \\\\\n",
    "        1.3 & 4.9 \\\\\n",
    "\\end{pmatrix}\\mathrm{;\\ }\n",
    "$$\n",
    "and make a scatterplot of the result."
   ]
  },
  {
   "cell_type": "code",
   "execution_count": 3,
   "metadata": {},
   "outputs": [
    {
     "data": {
      "image/png": "[encoded data removed]",
      "text/plain": [
       "<matplotlib.figure.Figure at 0x7ffb01d86d68>"
      ]
     },
     "metadata": {},
     "output_type": "display_data"
    }
   ],
   "source": [
    "\n",
    "# Makes sure that we always get the same random data\n",
    "np.random.seed(4294967295)\n",
    "\n",
    "# Params\n",
    "n = 250\n",
    "mu = np.array([0.3, -1.8])\n",
    "sigma = np.array([[2.1, 1.3], [1.3, 4.9]])\n",
    "\n",
    "# Multivariate gaussian\n",
    "data = np.random.multivariate_normal(mu, sigma, n)\n",
    "\n",
    "# Scatterplot\n",
    "plt.scatter(data[:, 0], data[:, 1])\n",
    "plt.ylabel('Y')\n",
    "plt.xlabel('X')\n",
    "plt.show()\n"
   ]
  },
  {
   "cell_type": "markdown",
   "metadata": {},
   "source": [
    "### 1.2 Log likelihood\n",
    "**[15 points]** Write down the log likelihood of this two-dimensional Gaussian model and write a function `loglik(data, mu, sigma)` that returns the log likelihood for the data that it is given. (We will use this later.)"
   ]
  },
  {
   "cell_type": "markdown",
   "metadata": {},
   "source": [
    "Log likelihood: "
   ]
  },
  {
   "cell_type": "code",
   "execution_count": 4,
   "metadata": {},
   "outputs": [
    {
     "data": {
      "text/plain": [
       "-982.21830332632112"
      ]
     },
     "execution_count": 4,
     "metadata": {},
     "output_type": "execute_result"
    }
   ],
   "source": [
    "\n",
    "# Log likelihood\n",
    "def loglik(data, mu, sigma):\n",
    "    N = len(data)\n",
    "    D = len(data[0])\n",
    "    ln_pi = np.log(2 * math.pi)\n",
    "    ln_sigma = np.log(np.linalg.det(sigma))\n",
    "    first_half = -(N * D * ln_pi) /2 - (N * ln_sigma) /2\n",
    "    \n",
    "    sec_half = 0.0\n",
    "    inv_sigma = np.linalg.inv(sigma)\n",
    "    for line in data:\n",
    "        m_t = np.matmul(np.transpose(line - mu), inv_sigma)\n",
    "        sec_half += float(np.matmul(m_t, (line - mu)))\n",
    "    sec_half = sec_half /-2\n",
    "    \n",
    "    return first_half + sec_half\n",
    "\n",
    "loglik(data, mu, sigma)"
   ]
  },
  {
   "cell_type": "markdown",
   "metadata": {},
   "source": [
    "### 1.3 Gradients\n",
    "**[15 points]** Write down the gradient of the log likelihood with respect to $\\boldsymbol{\\mu}$, we already provided the gradient w.r.t. $\\bSigma$ below:\n",
    "$$\n",
    "\\nabla_{\\bSigma} (\\log \\mathcal{L}) = - \\frac{n}{2} \\bSigma^{-1} + \\frac{n}{2} \\bSigma^{-1} \\boldsymbol{S} \\bSigma^{-1}\\mathrm{,}\n",
    "$$\n",
    "where $\\boldsymbol{S} = \\frac{1}{n} \\sum_i^n (\\bx_i- \\bmu)(\\bx_i- \\bmu)^T$. (if you like to derive it as an exercise, feel free to do so.)\n",
    "\n",
    "Write a function `grad_loglik(x, mu, sigma)` that returns the gradients as evaluated on the data set `x`. "
   ]
  },
  {
   "cell_type": "markdown",
   "metadata": {},
   "source": [
    "[your answer here]"
   ]
  },
  {
   "cell_type": "code",
   "execution_count": 5,
   "metadata": {
    "collapsed": true
   },
   "outputs": [],
   "source": [
    "\n",
    "def grad_loglik_sigma(x, mu, sigma):\n",
    "    inv_sigma = np.linalg.inv(sigma)\n",
    "    N = len(x)\n",
    "    first_half = -N * inv_sigma/2\n",
    "    \n",
    "    S = np.matmul(np.transpose(x - mu.T), (x - mu.T)) / N\n",
    "    sec_half = np.matmul(N * inv_sigma / 2, np.matmul(S, inv_sigma))\n",
    "    return first_half + sec_half\n",
    "\n",
    "def grad_loglik_mu(x, mu, sigma):\n",
    "    inv_sigma = np.linalg.inv(sigma)\n",
    "    value = array([[0.0], [0.0]])\n",
    "    for line in x:\n",
    "        value += np.transpose(np.matmul(line - mu.T, inv_sigma))\n",
    "    return value\n",
    "\n",
    "def grad_loglik(x, mu, sigma):\n",
    "    return grad_loglik_mu(x, mu, sigma), grad_loglik_sigma(x, mu, sigma)\n"
   ]
  },
  {
   "cell_type": "markdown",
   "metadata": {},
   "source": [
    "### 1.4 Numerical optimization\n",
    "**[35 points]** Numerically compute maximum likelihood estimates of all parameters. Implement the gradient ascent (or descent, https://en.wikipedia.org/wiki/Gradient_descent) numerical optimization method, by using the functions you created in 1.2 and 1.3. I.e. after initializing all parameters to reasonable values, repeat:\n",
    "* calculate gradients for the data \n",
    "* update the parameters with the gradients and an appropriate learning rate\n",
    "\n",
    "Keep track of the log likelihood after each step and make a plot of this. \n",
    "Run it for several iterations and visualize the resulting distribution with the data in the same figures (either 2 1D projections or a fancy 2D plot is accepted)"
   ]
  },
  {
   "cell_type": "code",
   "execution_count": 28,
   "metadata": {},
   "outputs": [
    {
     "name": "stdout",
     "output_type": "stream",
     "text": [
      "min mean: [[ 0.35473958]\n",
      " [-2.08393682]] min covariance [[-240.44845371    1.29614473]\n",
      " [  -3.83094091 -274.09542798]]\n"
     ]
    }
   ],
   "source": [
    "\n",
    "# From calculation, it is expected that the local minimum occurs at x=9/4\n",
    "\n",
    "cur_mu = (np.random.ranf((2, 1)) - 0.5) * random.uniform(0.0, 10.0)\n",
    "cur_sigma = (np.random.ranf((2, 2)) - 0.5) * random.uniform(0.0, 10.0)\n",
    "gamma = 0.01 # step size multiplier\n",
    "precision = 0.01\n",
    "previous_step_size_mu = abs(sum(cur_mu))\n",
    "previous_step_size_sigma = abs(sum(cur_sigma))\n",
    "mu_plot = []\n",
    "sigma_plot = []\n",
    "\n",
    "while previous_step_size_mu > precision or previous_step_size_sigma > precision:\n",
    "    prev_mu, prev_sigma = copy(cur_mu), copy(cur_sigma)\n",
    "    if previous_step_size_mu > precision:\n",
    "        cur_mu += -gamma * grad_loglik_mu(samples, prev_mu, prev_sigma)\n",
    "        previous_step_size_mu = sum(abs(cur_mu - prev_mu))\n",
    "        mu_plot.append(previous_step_size_mu)\n",
    "    \n",
    "    if previous_step_size_sigma > precision:\n",
    "        cur_sigma += -gamma * grad_loglik_sigma(samples, prev_mu, prev_sigma)\n",
    "        previous_step_size_sigma = sum(abs(cur_sigma - prev_sigma))\n",
    "        sigma_plot.append(previous_step_size_sigma)\n",
    "\n",
    "print(\"min mean:\", cur_mu, \"min covariance\", cur_sigma)\n"
   ]
  },
  {
   "cell_type": "markdown",
   "metadata": {},
   "source": [
    "## 2. Nonparametric density estimation\n",
    "Up to now we have used parametric models for (density) estimation. One example of a nonparametric method we used earlier is the (normalized) histogram method, with fixed binning. We will explore an example of a  nonparametric method: kernel density estimation.\n",
    "\n",
    "Consider the data loaded below, which is drawn from a mixture of 3 Gaussians."
   ]
  },
  {
   "cell_type": "code",
   "execution_count": 21,
   "metadata": {},
   "outputs": [
    {
     "data": {
      "image/png": "[encoded data removed]",
      "text/plain": [
       "<matplotlib.figure.Figure at 0x7f9524be2c50>"
      ]
     },
     "metadata": {},
     "output_type": "display_data"
    }
   ],
   "source": [
    "\n",
    "import _pickle as cPickle\n",
    "with open('assets/mixture.pkl', 'rb') as f:\n",
    "    mixed_data = cPickle.load(f, encoding='latin1')\n",
    "_ = plt.hist(mixed_data, 200)\n"
   ]
  },
  {
   "cell_type": "markdown",
   "metadata": {},
   "source": [
    "### 2.1 Histograms\n",
    "\n",
    "**[10 points]** Using the `mixed_data` above, illustrate two potential disadvantages of the histogram method as a nonparametric method for density estimation."
   ]
  },
  {
   "cell_type": "code",
   "execution_count": 22,
   "metadata": {},
   "outputs": [
    {
     "data": {
      "image/png": "[encoded data removed]",
      "text/plain": [
       "<matplotlib.figure.Figure at 0x7f9524c237f0>"
      ]
     },
     "metadata": {},
     "output_type": "display_data"
    }
   ],
   "source": [
    "\n",
    "# Create two subplots\n",
    "fig, axs = plt.subplots(1, 2, sharey=False)\n",
    "\n",
    "axs[0].hist(mixed_data, 500, fc='r')\n",
    "axs[1].hist(mixed_data, 10, fc='b')\n",
    "plt.show()\n",
    "\n",
    "# Zie hoe de data bij 0 > x > 5 varieerd in de linker histogram, maar heel \n",
    "# 'dense' wordt getoond in de rechter histogram. Twee representaties van \n",
    "# dezelfde data kunnen te precies, of te grof zijn wat kan leiden tot \n",
    "# verschillende interpretaties van de data.\n"
   ]
  },
  {
   "cell_type": "markdown",
   "metadata": {},
   "source": [
    "### 2.2 Kernel density approximation\n",
    "**[20 points]** One other way to estimate the density given some data sample, is by using kernels. A kernel $f_h(x)$ is a function of the data, given some smoothing parameter $h$, that specifies the local neighbourhood around a point. (See Bishop 2.5.2 or Hastie 2.8.2 or Google). \n",
    "\n",
    "Specify pros and cons of KDE over the histogram method by creating plots of the `mixed_data` above. Use in your arguments one or two different kernels with one or two different bandwidths. You are allowed to use a KDE code from whatever python package you prefer, for example `sklearn` or `statsmodels`."
   ]
  },
  {
   "cell_type": "code",
   "execution_count": 23,
   "metadata": {},
   "outputs": [
    {
     "data": {
      "image/png": "[encoded data removed]",
      "text/plain": [
       "<matplotlib.figure.Figure at 0x7f9524e67518>"
      ]
     },
     "metadata": {},
     "output_type": "display_data"
    }
   ],
   "source": [
    "\n",
    "from sklearn.neighbors.kde import KernelDensity\n",
    "\n",
    "# Setup\n",
    "X_plot = np.linspace(-5, 10, 1000)[:, np.newaxis]\n",
    "mixed_data_newaxis = mixed_data[:, np.newaxis]\n",
    "fig, axs = plt.subplots(1, 2, sharey=False)\n",
    "\n",
    "# Gaussian KDA\n",
    "kde = KernelDensity(kernel='gaussian', bandwidth=0.25).fit(mixed_data_newaxis)\n",
    "gaussian = kde.score_samples(X_plot)\n",
    "axs[0].fill(X_plot[:, 0], np.exp(gaussian), fc='r')\n",
    "\n",
    "# Linear KDA\n",
    "kde = KernelDensity(kernel='linear', bandwidth=0.05).fit(mixed_data_newaxis)\n",
    "exponential = kde.score_samples(X_plot)\n",
    "axs[1].fill(X_plot[:, 0], np.exp(exponential), fc='b')\n",
    "plt.show()\n",
    "\n",
    "# Met KDA kan de density op een overzichtelijkere manier weergegeven worden\n",
    "# waarbij binning minder invloed heeft op het resultaat.\n",
    "# Een nadeel van KDA t.o.v. een histogram is dat zero values niet zichtbaar\n",
    "# zijn als ze naast nonzero values liggen.\n"
   ]
  }
 ],
 "metadata": {
  "kernelspec": {
   "display_name": "Python 3",
   "language": "python",
   "name": "python3"
  },
  "language_info": {
   "codemirror_mode": {
    "name": "ipython",
    "version": 3
   },
   "file_extension": ".py",
   "mimetype": "text/x-python",
   "name": "python",
   "nbconvert_exporter": "python",
   "pygments_lexer": "ipython3",
   "version": "3.5.2"
  }
 },
 "nbformat": 4,
 "nbformat_minor": 1
}

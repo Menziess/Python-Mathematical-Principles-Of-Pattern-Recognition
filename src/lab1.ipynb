{
 "cells": [
  {
   "cell_type": "markdown",
   "metadata": {},
   "source": [
    "## Mathematical Principles in Pattern Recognition (2017/2018)\n",
    "$\\newcommand{\\bPhi}{\\mathbf{\\Phi}}$\n",
    "$\\newcommand{\\bx}{\\mathbf{x}}$\n",
    "$\\newcommand{\\bw}{\\mathbf{w}}$\n",
    "$\\newcommand{\\bt}{\\mathbf{t}}$\n",
    "$\\newcommand{\\by}{\\mathbf{y}}$\n",
    "$\\newcommand{\\bm}{\\mathbf{m}}$\n",
    "$\\newcommand{\\bS}{\\mathbf{S}}$\n",
    "$\\newcommand{\\bI}{\\mathbf{I}}$"
   ]
  },
  {
   "cell_type": "markdown",
   "metadata": {},
   "source": [
    "# Lab 1\n",
    "\n",
    "In the computer labs we will work with the Python programming language within a Jupyter notebook. Each week a new notebook is made available that contains the exercises that are to be handed-in. \n",
    "\n",
    "* You are expected to work in pairs.\n",
    "* Only one of each pair has to submit on blackboard. Make sure that you add the student ID of your partner in the submission comments.\n",
    "* The main notebook file you submit should read \"Lab[number]_[last name 1]_[last name 2].ipynb\", for example \"Lab2_Bongers_Versteeg.ipynb\". \n",
    "* Please make sure your code will run without problems!\n",
    "\n",
    "Feel free ask any questions during the computer lab sessions, or email the TA, Elise (e.e.vanderpol@uva.nl).\n",
    "\n",
    "**The due date for the labs is Friday, Sep 15 at 15:00**"
   ]
  },
  {
   "cell_type": "code",
   "execution_count": 15,
   "metadata": {
    "scrolled": true
   },
   "outputs": [
    {
     "name": "stdout",
     "output_type": "stream",
     "text": [
      "Populating the interactive namespace from numpy and matplotlib\n"
     ]
    }
   ],
   "source": [
    "%pylab inline"
   ]
  },
  {
   "cell_type": "markdown",
   "metadata": {},
   "source": [
    "## 1. Central Limit Theory\n",
    "\n",
    "In this exercise we play with discrete variables, drawn from a Bernoulli and Binomial distributions. In the end we will explore an example Central Limit Theorem (CLT) with respect to a Binomial random variable. THe CLT states that the sum or average of many independent copies of a random variable is approximately a normal random variable. An example plot of the probability desnity of a standard normal distribution is given below."
   ]
  },
  {
   "cell_type": "code",
   "execution_count": 110,
   "metadata": {},
   "outputs": [
    {
     "data": {
      "image/png": "[encoded data removed]",
      "text/plain": [
       "<matplotlib.figure.Figure at 0x7fd5c959c5c0>"
      ]
     },
     "metadata": {},
     "output_type": "display_data"
    }
   ],
   "source": [
    "def gaussian_pdf(x, mu, sigma):\n",
    "    return np.exp(-(x-mu)**2 /(2*sigma**2))/math.sqrt(2*math.pi * sigma**2)\n",
    "\n",
    "x = np.linspace(-3,3,100)\n",
    "plt.plot(x, gaussian_pdf(x, mu=0, sigma=1))\n",
    "plt.show()"
   ]
  },
  {
   "cell_type": "markdown",
   "metadata": {},
   "source": [
    "### 1.1 Bernoulli trial\n",
    "**[20 points]** Write a function `bernoulli_trial(p)` that returns a $1$ with probability $p$ and $0$ with probability $1 - p$. Use a random sampling method from the `random` or `numpy.random` modules in your implementation. Print the results of 10 repeated independent trials by calling the function 10 times for $p = 0.5$."
   ]
  },
  {
   "cell_type": "code",
   "execution_count": 111,
   "metadata": {},
   "outputs": [
    {
     "name": "stdout",
     "output_type": "stream",
     "text": [
      "0\n",
      "1\n",
      "1\n",
      "0\n",
      "0\n",
      "0\n",
      "1\n",
      "1\n",
      "1\n",
      "1\n"
     ]
    }
   ],
   "source": [
    "def bernoulli_trial(p):\n",
    "    return int(p > random.random())\n",
    "    \n",
    "for _ in range(10):\n",
    "    print(bernoulli_trial(0.5))"
   ]
  },
  {
   "cell_type": "markdown",
   "metadata": {},
   "source": [
    "### 1.2 Multiple trials\n",
    "**[20 points]** Write a method `multiple_trials(n, p)` that returns a $N$-dimensional vector $\\bx$ where each $x_i$ is a Bernoulli sample. Use your implementation of the Bernoulli trial and make sure it returns a vector, i.e. a numpy array. Again print the output of 10 trials with $p = 0.5$ "
   ]
  },
  {
   "cell_type": "code",
   "execution_count": 112,
   "metadata": {},
   "outputs": [
    {
     "name": "stdout",
     "output_type": "stream",
     "text": [
      "[0 0 1 1 0 1 0 1 1 0]\n"
     ]
    }
   ],
   "source": [
    "def multiple_trials(n, p):\n",
    "    return np.array([bernoulli_trial(p) for _ in range(n)])\n",
    "\n",
    "print(multiple_trials(10, .5))"
   ]
  },
  {
   "cell_type": "markdown",
   "metadata": {},
   "source": [
    "### 1.3 Binomial\n",
    "**[20 points]** Write a simple function that, for a given numpy array consisting of zero's and ones, return the number of positives. Use this in a function named `binomial_sample(n,m,p)` that returns a vector of size $n$, where each slot contains the number of positives in $m$ trials, where each positive has probability $p$."
   ]
  },
  {
   "cell_type": "code",
   "execution_count": 113,
   "metadata": {},
   "outputs": [
    {
     "name": "stdout",
     "output_type": "stream",
     "text": [
      "[3 2 4 2 3 0 4 0 3 3 2 3 3 0 3 3 1 2 0 3 6 3 3 1 4 2 2 3 3 2 2 5 1 1 2 3 3\n",
      " 0 2 2 5 3 2 5 2 3 2 4 2 3 2 2 1 3 2 2 3 6 0 1 2 2 2 1 3 4 1 2 1 4 3 4 0 3\n",
      " 6 5 5 1 4 5 3 2 2 1 3 4 3 3 3 4 2 3 1 2 4 2 2 4 4 2 3 2 3 2 3 3 3 1 4 2 3\n",
      " 1 2 1 2 1 2 3 2 0 2 1 3 2 2 0 1 1 2 3 2 2 1 2 2 0 4 3 3 5 4 1 1 2 2 2 4 3\n",
      " 2 1 1 0 4 0 2 3 2 2 5 0 3 1 2 3 3 4 2 3 1 3 4 2 0 2 2 2 4 3 1 3 1 2 1 3 2\n",
      " 3 4 1 2 4 3 1 3 2 5 2 1 1 3 3 3 3 1 3 2 3 0 3 0 4 0 1 0 1 3 2 5 0 1 2 3 5\n",
      " 4 2 1 3 2 2 3 1 2 3 3 3 4 0 4 1 2 3 5 3 5 2 4 4 2 3 4 3 1 5 2 3 2 4 3 4 2\n",
      " 3 2 4 1 3 2 3 2 1 3 1 2 3 2 2 4 3 3 5 2 1 4 4 4 2 2 4 4 3 2 1 6 4 4 1 1 1\n",
      " 3 2 1 0 1 3 4 3 1 1 1 3 4 1 5 1 0 2 1 2 4 2 1 1 2 1 2 2 5 2 2 6 2 2 2 1 1\n",
      " 2 5 3 6 4 3 3 3 3 4 3 1 1 1 1 1 2 2 3 3 3 3 2 4 3 1 3 3 1 1 5 2 2 5 2 3 3\n",
      " 1 2 3 3 3 2 3 2 1 2 3 3 6 5 2 1 3 2 4 2 3 2 1 1 1 2 3 3 3 2 3 4 1 3 2 3 3\n",
      " 0 1 2 2 3 2 3 2 2 3 2 5 0 3 2 4 4 1 1 1 2 4 5 1 2 2 0 4 5 2 1 2 2 5 3 3 4\n",
      " 1 1 3 2 1 2 3 2 3 2 1 3 3 1 4 5 3 1 2 3 2 4 4 1 4 0 2 3 1 1 2 5 3 2 4 3 1\n",
      " 0 3 1 2 3 4 0 4 3 2 4 2 2 1 6 1 4 2 2]\n"
     ]
    }
   ],
   "source": [
    "# Using a default function to count nonzero's\n",
    "def totalPositives(array):\n",
    "    return count_nonzero(array)\n",
    "\n",
    "# n = vector length\n",
    "# m = nr of experiments\n",
    "# p = probability\n",
    "def binomial_sample(n, m, p):\n",
    "    return np.asarray([totalPositives(multiple_trials(m, p)) for _ in range(n)])\n",
    "\n",
    "print(binomial_sample(500, 10, .25))"
   ]
  },
  {
   "cell_type": "markdown",
   "metadata": {},
   "source": [
    "### 1.4 Histogram\n",
    "**[20 points]** Recreate a sampling distribution similar to Figure 2.1 in Bishop by drawing $500$ Binomial samples, i.e. from `binomial_sample(n,m,p)`, with $m=10$ and $p=0.25$. Make sure you normalize the histogram to get a sampling density distribution. Hint: you can use `plt.hist()` to plot historgams."
   ]
  },
  {
   "cell_type": "code",
   "execution_count": 114,
   "metadata": {
    "scrolled": false
   },
   "outputs": [
    {
     "data": {
      "image/png": "[encoded data removed]",
      "text/plain": [
       "<matplotlib.figure.Figure at 0x7fd5c978ed68>"
      ]
     },
     "metadata": {},
     "output_type": "display_data"
    }
   ],
   "source": [
    "\n",
    "# Creating a sample\n",
    "x = binomial_sample(500, 10, 0.25)\n",
    "\n",
    "# Normalizing such that area under curve = 1\n",
    "weights = np.ones_like(x)/float(len(x))\n",
    "\n",
    "# Creating histogram\n",
    "_ = plt.hist(x, weights=weights, bins=np.arange(11))\n",
    "_ = plt.xlabel('Nr of positives per experiment')\n",
    "_ = plt.ylabel('Total occurences')\n",
    "\n",
    "# Drawing\n",
    "plt.show()\n"
   ]
  },
  {
   "cell_type": "markdown",
   "metadata": {},
   "source": [
    "### 1.5 Central limit theorem\n",
    "**[20 points]** Plot another histogram but now with $10^5$ samples, $p=0.4$ and $m=10$. In the same plot, draw a normal distribution with $\\mu = 4$ and $\\sigma=\\sqrt{2.4}$. Do these results make sense?"
   ]
  },
  {
   "cell_type": "code",
   "execution_count": 115,
   "metadata": {},
   "outputs": [
    {
     "data": {
      "image/png": "[encoded data removed]",
      "text/plain": [
       "<matplotlib.figure.Figure at 0x7fd5d1a3a278>"
      ]
     },
     "metadata": {},
     "output_type": "display_data"
    }
   ],
   "source": [
    "\n",
    "# Creating a sample\n",
    "x = binomial_sample(10**5, 10, 0.4)\n",
    "x.sort()\n",
    "\n",
    "# Normalizing such that area under curve = 1\n",
    "weights = np.ones_like(x)/float(len(x))\n",
    "\n",
    "# Creating histogram\n",
    "_ = plt.hist(x, weights=weights, bins=np.arange(11))\n",
    "_ = plt.xlabel('Nr of positives per experiment')\n",
    "_ = plt.ylabel('Total occurences')\n",
    "plt.plot(x, gaussian_pdf(x, mu=4, sigma=sqrt(2.4)))\n",
    "\n",
    "# Drawing\n",
    "plt.show()\n"
   ]
  },
  {
   "cell_type": "markdown",
   "metadata": {},
   "source": [
    "[___answer here___]"
   ]
  },
  {
   "cell_type": "code",
   "execution_count": null,
   "metadata": {
    "collapsed": true
   },
   "outputs": [],
   "source": [
    "They very much do, although the bars are a littlebit shifted to the right, making the normal distribution seem off."
   ]
  },
  {
   "cell_type": "code",
   "execution_count": null,
   "metadata": {
    "collapsed": true
   },
   "outputs": [],
   "source": []
  }
 ],
 "metadata": {
  "kernelspec": {
   "display_name": "Python 3",
   "language": "python",
   "name": "python3"
  },
  "language_info": {
   "codemirror_mode": {
    "name": "ipython",
    "version": 3
   },
   "file_extension": ".py",
   "mimetype": "text/x-python",
   "name": "python",
   "nbconvert_exporter": "python",
   "pygments_lexer": "ipython3",
   "version": "3.5.2"
  }
 },
 "nbformat": 4,
 "nbformat_minor": 1
}

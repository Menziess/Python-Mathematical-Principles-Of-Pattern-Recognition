{
 "cells": [
  {
   "cell_type": "markdown",
   "metadata": {},
   "source": [
    "## Mathematical Principles in Pattern Recognition (2017/2018)\n",
    "$\\newcommand{\\bPhi}{\\mathbf{\\Phi}}$\n",
    "$\\newcommand{\\bb}{\\mathbf{b}}$\n",
    "$\\newcommand{\\bx}{\\mathbf{x}}$\n",
    "$\\newcommand{\\bw}{\\mathbf{w}}$\n",
    "$\\newcommand{\\bt}{\\mathbf{t}}$\n",
    "$\\newcommand{\\by}{\\mathbf{y}}$\n",
    "$\\newcommand{\\bm}{\\mathbf{m}}$\n",
    "$\\newcommand{\\bS}{\\mathbf{S}}$\n",
    "$\\newcommand{\\bI}{\\mathbf{I}}$\n",
    "$\\newcommand{\\bA}{\\mathbf{A}}$\n",
    "$\\newcommand{\\bQ}{\\mathbf{Q}}$\n",
    "$\\newcommand{\\bR}{\\mathbf{R}}$\n",
    "$\\newcommand{\\bX}{\\mathbf{X}}$"
   ]
  },
  {
   "cell_type": "markdown",
   "metadata": {},
   "source": [
    "# Lab 2\n",
    "\n",
    "In the computer labs we will work with the Python programming language within a Jupyter notebook. Each week a new notebook is made available that contains the exercises that are to be handed-in. \n",
    "\n",
    "* You are expected to work in pairs.\n",
    "* Only one of each pair has to submit on blackboard. Make sure that you add the student ID of your partner in the submission comments.\n",
    "* The main notebook file you submit should read \"Lab[number]_[last name 1]_[last name 2].ipynb\", for example \"Lab2_Bongers_Versteeg.ipynb\". \n",
    "* Please make sure your code will run without problems!\n",
    "\n",
    "Feel free ask any questions during the computer lab sessions, or email the TA, Elise (e.e.vanderpol@uva.nl).\n",
    "\n",
    "**The due date for the labs is Friday, Sep 22 at 15:00**"
   ]
  },
  {
   "cell_type": "code",
   "execution_count": 1,
   "metadata": {},
   "outputs": [
    {
     "name": "stdout",
     "output_type": "stream",
     "text": [
      "Populating the interactive namespace from numpy and matplotlib\n"
     ]
    }
   ],
   "source": [
    "%pylab inline"
   ]
  },
  {
   "cell_type": "markdown",
   "metadata": {},
   "source": [
    "## 1 Simple linear regression\n",
    "In this exercise, you will generate noisy data for a simple linear system $y = \\beta_0 + \\beta_1 x$ where we have one target and one predictor variable, and compute the solution of least-squares estimator using linear algebra."
   ]
  },
  {
   "cell_type": "markdown",
   "metadata": {},
   "source": [
    "### 1.1 Generate data\n",
    "**[10 points]** Sample 20 datapoints $({x_i, y_i})$ for the following model: \n",
    "$$x \\in \\mathcal{N}(0, 3)$$\n",
    "$$y = \\beta_0 + \\beta_1 x + \\epsilon \\mathrm{,}$$\n",
    "where $\\epsilon \\in \\mathcal{N}(0,1)$ is standard normal and the parameters $\\beta_0$ and $\\beta_1$ are both taken randomly __once__ in the interval $(0,1)$ (and are thus kept fixed during sampling!). Make a scatterplot of your data."
   ]
  },
  {
   "cell_type": "code",
   "execution_count": 2,
   "metadata": {},
   "outputs": [
    {
     "name": "stdout",
     "output_type": "stream",
     "text": [
      "Y = 0.1 + 0.9 * X + e\n"
     ]
    },
    {
     "data": {
      "image/png": "[encoded data removed]",
      "text/plain": [
       "<matplotlib.figure.Figure at 0x7fae8e2afdd8>"
      ]
     },
     "metadata": {},
     "output_type": "display_data"
    }
   ],
   "source": [
    "\n",
    "# Makes sure that we always get the same random data\n",
    "np.random.seed(4294967295)\n",
    "\n",
    "# Sample\n",
    "n = 20\n",
    "\n",
    "# b0 is the Y intersect, b1 is the weight\n",
    "b0 = round(random.uniform(0, 1), 1)\n",
    "b1 = round(random.uniform(0, 1), 1)\n",
    "\n",
    "# Error vector\n",
    "e = np.random.normal(0, 1, n)\n",
    "\n",
    "# Input vector\n",
    "X = np.random.normal(0, 3, n)\n",
    "\n",
    "# The output sample\n",
    "Y = b0 + b1 * X + e\n",
    "\n",
    "# Scatterplot of X and Y\n",
    "print(\"Y =\", b0, \"+\", b1, \"* X + e\", )\n",
    "plt.scatter(X, Y)\n",
    "plt.ylabel('Y')\n",
    "plt.xlabel('X')\n",
    "plt.show()"
   ]
  },
  {
   "cell_type": "markdown",
   "metadata": {},
   "source": [
    "### 1.2  LS solution\n",
    "**[15 points]** What is the solution of the least-squares estimate for the parameters $\\hat{\\bb} = (\\hat{\\beta}_0, \\hat{\\beta}_1)$ for model $y = \\beta_0 + \\beta_1 x$ in terms of the dependent variable $y$ and the design matrix $\\mathbf{X}$? Write the solutions to these normal equations down in closed form in the markdown cell below. What are the dimensions of $\\hat{\\bb}$, $\\bX$ and $\\by$? \n",
    "\n",
    "\n",
    "Hint: see Bishop chapter 3, it helps to write the model in vectorized form!"
   ]
  },
  {
   "cell_type": "markdown",
   "metadata": {},
   "source": [
    "### $\\color{red}{Answer}$\n",
    "\n",
    "Vectorized form:\n",
    "\n",
    "$\\hat{\\bb} = (X'X)^{-1} X'Y$\n",
    "***\n",
    "\n",
    "Dimensions:\n",
    "\n",
    "$\\hat{\\bb}\\substack{[2,1]}$\n",
    "\n",
    "$X\\substack{[20,2]}$\n",
    "\n",
    "$Y\\substack{[20,1]}$\n",
    "\n",
    "\n",
    "$\\color{red}\\#$"
   ]
  },
  {
   "cell_type": "markdown",
   "metadata": {},
   "source": [
    "### 1.3 Compute estimates\n",
    "**[10 points]** Create the design matrix $\\bX$ and compute the point estimation for the parameters $\\hat{\\bb}$ using the simulated data from 1.1."
   ]
  },
  {
   "cell_type": "code",
   "execution_count": 3,
   "metadata": {},
   "outputs": [
    {
     "name": "stdout",
     "output_type": "stream",
     "text": [
      "shape Y:\t (20,)\n",
      "shape Xd:\t (20, 2)\n",
      "\n",
      "bHat:\t\t [ 0.25049622  0.88991013]\n"
     ]
    }
   ],
   "source": [
    "# bHat = (X′X)^−1 X′Y\n",
    "regression = lambda Xd, Y: np.linalg.inv(Xd.T @ Xd) @ Xd.T @ Y\n",
    "\n",
    "# # Converting indepedent x's to design matrix X(nx2)\n",
    "Xd = np.c_[np.ones(X.shape), X]\n",
    "\n",
    "# Show dimensions\n",
    "print(\"shape Y:\\t\", Y.shape)\n",
    "print(\"shape Xd:\\t\", Xd.shape)\n",
    "\n",
    "# Calculate bHat of (2x1)\n",
    "bHat = regression(Xd, Y)\n",
    "print(\"\\nbHat:\\t\\t\", bHat)"
   ]
  },
  {
   "cell_type": "markdown",
   "metadata": {},
   "source": [
    "### 1.4 Plotting\n",
    "**[5 points]** Plot the model with the estimated parameters and the true parameters in the same scatterplot as the original data. "
   ]
  },
  {
   "cell_type": "code",
   "execution_count": 4,
   "metadata": {},
   "outputs": [
    {
     "name": "stdout",
     "output_type": "stream",
     "text": [
      "Y = 0.1 + 0.9 * X + e\n"
     ]
    },
    {
     "data": {
      "image/png": "[encoded data removed]",
      "text/plain": [
       "<matplotlib.figure.Figure at 0x7fae8bff5048>"
      ]
     },
     "metadata": {},
     "output_type": "display_data"
    }
   ],
   "source": [
    "# Scatterplot of X, Y and estimated parameters\n",
    "print(\"Y =\", b0, \"+\", b1, \"* X + e\", )\n",
    "\n",
    "# Function that draws a line between plot bounds\n",
    "def pltEstimation(b0, b1):\n",
    "    bounds = plt.axis()\n",
    "    plt.plot([bounds[0], bounds[1]], [b0 + b1 * bounds[0], b0 + b1 * bounds[1]])\n",
    "    \n",
    "plt.scatter(X, Y)\n",
    "pltEstimation(b0, b1)\n",
    "plt.ylabel('Y')\n",
    "plt.xlabel('X')\n",
    "plt.show()"
   ]
  },
  {
   "cell_type": "markdown",
   "metadata": {},
   "source": [
    "## 2 Multiple linear regression\n",
    "Here we go from simple to multiple linear regression, and encounter some difficulties that may arise."
   ]
  },
  {
   "cell_type": "markdown",
   "metadata": {},
   "source": [
    "### 2.1 Repeating for multiple regression\n",
    "**[30]** Now sample 20 datapoints from a more complex model with multiple prediction variables:\n",
    "$$x_1 \\in \\mathcal{N}(0, 3)$$\n",
    "$$x_2 \\in \\mathcal{N}(0, 2)$$\n",
    "$$x_3 \\in \\mathcal{N}(0, 3)$$\n",
    "$$y = \\beta_0 + \\beta_1 x_1 + \\beta_2 x_2 + \\beta_3 x_3 + \\epsilon \\mathrm{,}$$\n",
    "where $\\epsilon$ is again standard normal and the $\\beta_i$ are all randomly set in $(0,1)$. Repeat the above assignment by computing $\\bX$ and the least squares estimate of the parameters $\\hat{\\bb}$. Print the results for  $\\hat{\\bb}$ and the original parameters $\\bb$ together as a check.\n",
    "\n",
    "Hint: if you vectorized the computation in 1.3 correctly, you could re-use some code."
   ]
  },
  {
   "cell_type": "code",
   "execution_count": 5,
   "metadata": {},
   "outputs": [
    {
     "name": "stdout",
     "output_type": "stream",
     "text": [
      "b0:\t 0.2\n",
      "b1:\t 0.5\n",
      "b2:\t 0.2\n",
      "b3:\t 0.5\n",
      "\n",
      "bHat:\t [ 0.17048001  0.52349961  0.02537308  0.34448834]\n"
     ]
    }
   ],
   "source": [
    "\n",
    "# Local multiple regression variables initialized\n",
    "def performMultipleRegression():\n",
    "    # Makes sure that we always get the same random data\n",
    "    np.random.seed(123194)\n",
    "\n",
    "    # b0 is the Y intersect, b1 is the weight\n",
    "    b0 = round(random.uniform(0, 1), 1)\n",
    "    b1 = round(random.uniform(0, 1), 1)\n",
    "    b2 = round(random.uniform(0, 1), 1)\n",
    "    b3 = round(random.uniform(0, 1), 1)\n",
    "\n",
    "    # Input vectors\n",
    "    x1 = np.random.normal(0, 3, n)\n",
    "    x2 = np.random.normal(0, 2, n)\n",
    "    x3 = np.random.normal(0, 3, n)\n",
    "\n",
    "    # Error vector\n",
    "    e = np.random.normal(0, 1, n)\n",
    "\n",
    "    print(\"b0:\\t\", b0)\n",
    "    print(\"b1:\\t\", b1)\n",
    "    print(\"b2:\\t\", b2)\n",
    "    print(\"b3:\\t\", b3)\n",
    "    # Design matrix\n",
    "    Xd = np.c_[np.ones(x1.shape), x1, x2, x3]\n",
    "    # The output sample\n",
    "    Y = b0 + b1 * x1 + b2 * x2 + b3 * x3 + e\n",
    "    \n",
    "    bHat = regression(Xd, Y)\n",
    "    print(\"\\nbHat:\\t\", bHat)\n",
    "    \n",
    "performMultipleRegression()\n"
   ]
  },
  {
   "cell_type": "markdown",
   "metadata": {},
   "source": [
    "We have loaded some multivariate data, comprising of one target $y$ and 3 predictor variables $x_i$ as an example. "
   ]
  },
  {
   "cell_type": "code",
   "execution_count": 6,
   "metadata": {},
   "outputs": [
    {
     "name": "stdout",
     "output_type": "stream",
     "text": [
      "shape y_example:\t\t (30,)\n",
      "shape x_example:\t\t (30, 3)\n",
      "shape designmatrix_example:\t (30, 4)\n"
     ]
    }
   ],
   "source": [
    "\n",
    "# Refactored file loading function\n",
    "data = np.load('assets/data.npz')\n",
    "x_example = data['x']\n",
    "y_example = data['y']\n",
    "designmatrix_example = data['designmatrix']\n",
    "    \n",
    "print(\"shape y_example:\\t\\t\", y_example.shape)\n",
    "print(\"shape x_example:\\t\\t\", x_example.shape)\n",
    "print(\"shape designmatrix_example:\\t\", designmatrix_example.shape)\n"
   ]
  },
  {
   "cell_type": "markdown",
   "metadata": {},
   "source": [
    "### 2.2 Example data\n",
    "**[5 points]** Use the designmatrix $\\bX$ and target variable $\\by$ from the data loaded above in your implementation from problem 2 to get a least-square estimate for $\\bb$ assuming a linear regression model. What happens, and why?"
   ]
  },
  {
   "cell_type": "code",
   "execution_count": 7,
   "metadata": {
    "scrolled": true
   },
   "outputs": [],
   "source": [
    "\n",
    "# Calculate bHat for example data\n",
    "# bHat = regression(designmatrix_example, y_example)\n",
    "# print(\"\\nbHat:\\t\\t\", bHat)\n",
    "\n",
    "# throws \"LinAlgError: Singular matrix\"\n"
   ]
  },
  {
   "cell_type": "markdown",
   "metadata": {},
   "source": [
    "### $\\color{red}{Answer}$\n",
    "\n",
    "A singular matrix has no inverse, so it throws the error: \"LinAlgError: Singular matrix\".\n",
    "\n",
    "$\\color{red}\\#$"
   ]
  },
  {
   "cell_type": "markdown",
   "metadata": {},
   "source": [
    "We can factor any complex (and thus real-valued) $m \\times n$ matrix $\\bA$ in terms of an $m \\times n$ orthogonal matrix $\\bQ$ and an $n \\times n$ upper triangular matrix $\\bR$, a so-called QR decomposition.  \n",
    "### 2.3 QR decomposition\n",
    "**[10 points]** Rewrite the solution to the normal equations from 1.2 in terms of the QR decomposition of the designmatrix. Why could this form be more preferred?"
   ]
  },
  {
   "cell_type": "markdown",
   "metadata": {
    "collapsed": true
   },
   "source": [
    "### $\\color{red}{Answer}$\n",
    "\n",
    "Vectorized form:\n",
    "\n",
    "$\\hat{\\bb} = (X'X)^{-1} X'Y$\n",
    "\n",
    "Met de Gram-Schmidtmethode kan een orthonormale basis worden gevonden van de designmatrix (Q).\n",
    "\n",
    "De designmatrix:"
   ]
  },
  {
   "cell_type": "raw",
   "metadata": {},
   "source": [
    "# Q1            Q2\n",
    "# [[ 1.         -0.311]\n",
    "#  [ 1.         -2.710]\n",
    "#  [ 1.         -0.153]\n",
    "#  [ 1.          4.139]\n",
    "#  [ 1.          1.442]\n",
    "#  [ 1.          4.194]\n",
    "#  [ 1.          4.357]\n",
    "#  [ 1.         -3.888]\n",
    "#  [ 1.         -3.112]\n",
    "#  [ 1.         -1.435]\n",
    "#  [ 1.          0.046]\n",
    "#  [ 1.         -2.639]\n",
    "#  [ 1.          0.435]\n",
    "#  [ 1.          0.876]\n",
    "#  [ 1.         -1.609]\n",
    "#  [ 1.         -3.708]\n",
    "#  [ 1.          2.521]\n",
    "#  [ 1.          2.128]\n",
    "#  [ 1.          2.913]\n",
    "#  [ 1.         -3.259]]"
   ]
  },
  {
   "cell_type": "markdown",
   "metadata": {},
   "source": [
    "$\\bA = QR$\n",
    "\n",
    "De orthogonale basis = [V1 = X1, V2 = X2 – ((X2 * V1) / (V1 * V1))V1], dus: (dit is afgerond)\n",
    "\n",
    "Q = [V1 = X1, V2 = X2 – ((X2 * V1) / (V1 * V1))V1]"
   ]
  },
  {
   "cell_type": "raw",
   "metadata": {},
   "source": [
    "De designmatrix:\n",
    "A1            A2\n",
    "[[ 1.         -0.43914875]\n",
    " [ 1.         -2.83848763]\n",
    " [ 1.         -0.28092062]\n",
    " [ 1.          4.01112426]\n",
    " [ 1.          1.29398236]\n",
    " [ 1.          4.06568377]\n",
    " [ 1.          4.22870337]\n",
    " [ 1.         -4.01589909]\n",
    " [ 1.         -3.23977594]\n",
    " [ 1.         -1.56260432]\n",
    " [ 1.         -0.08235652]\n",
    " [ 1.         -2.76660643]\n",
    " [ 1.          0.30729782]\n",
    " [ 1.          0.74770653]\n",
    " [ 1.         -1.73747812]\n",
    " [ 1.         -3.83586997]\n",
    " [ 1.          2.39323365]\n",
    " [ 1.          1.999715  ]\n",
    " [ 1.          2.78461088]\n",
    " [ 1.         -3.38712763]]"
   ]
  },
  {
   "cell_type": "markdown",
   "metadata": {},
   "source": [
    "Om de driehoeksmatrix ziet er als volgt uit: [A1 * Q1, A2 * Q1], [0, A2 * Q2] dus:\n",
    "\n",
    "R = [A1 * Q1, A2 * Q1], [0, A2 * Q2]"
   ]
  },
  {
   "cell_type": "raw",
   "metadata": {},
   "source": [
    "[[20          -2.560]\n",
    " [ 0.        144.283]]"
   ]
  },
  {
   "cell_type": "markdown",
   "metadata": {},
   "source": [
    "$\\therefore$\n",
    "\n",
    "$\\hat{\\bb} = (QR'QR)^{-1} QR'Y$\n",
    "\n",
    "$\\color{red}\\#$"
   ]
  },
  {
   "cell_type": "markdown",
   "metadata": {},
   "source": [
    "### 2.4 Implementation\n",
    "There are many different methods to calculate the QR decomposition to find here we will use a modified Gram-Schmidt orthogonalization algorithm as seen below."
   ]
  },
  {
   "cell_type": "code",
   "execution_count": 8,
   "metadata": {
    "collapsed": true
   },
   "outputs": [],
   "source": [
    "\n",
    "# Replaced buggy version by new one\n",
    "def modified_gram_schmidt(mat):\n",
    "    mat = mat.copy()\n",
    "    m, n = mat.shape\n",
    "    \n",
    "    q = np.zeros((m,n))\n",
    "    r = np.zeros((n,n))\n",
    "\n",
    "    for k in range(n):\n",
    "        r[k, k]     = np.linalg.norm(mat[:, k])\n",
    "        q[:, k]     = mat[:,k]/r[k,k]\n",
    "        r[k, k+1:n] = np.dot(q[:,k], mat[:,k+1:n])\n",
    "        mat[:, k+1:n] = mat[:,k+1:n] - np.outer(q[:,k], r[k,k+1:n])\n",
    "    return q, r\n"
   ]
  },
  {
   "cell_type": "markdown",
   "metadata": {},
   "source": [
    "**[10 points]** Explain __roughly__ why this algorithm would return an orthogonalized $\\bQ$ (you are allowed to add comments to the code above). Apply it on the designmatrix of your example, show that the decomposition works and calculate an estimate $\\hat{\\bb}$."
   ]
  },
  {
   "cell_type": "code",
   "execution_count": 9,
   "metadata": {},
   "outputs": [
    {
     "name": "stdout",
     "output_type": "stream",
     "text": [
      "shape Q:\t\t\t (30, 4)\n",
      "shape R:\t\t\t (4, 4)\n",
      "shape designmatrix_modified:\t (30, 4)\n",
      "\n",
      "bHat:\t\t [ 0.0328986   0.03589633  0.25279771  0.59985052]\n"
     ]
    }
   ],
   "source": [
    "\n",
    "# See explanation of question 2.3\n",
    "\n",
    "# Modify designmatrix using the gram-schmidt process\n",
    "QR = modified_gram_schmidt(designmatrix_example)\n",
    "Q = QR[0]\n",
    "R = QR[1]\n",
    "designmatrix_modified = Q @ R\n",
    "\n",
    "print(\"shape Q:\\t\\t\\t\", Q.shape)\n",
    "print(\"shape R:\\t\\t\\t\", R.shape)\n",
    "print(\"shape designmatrix_modified:\\t\", designmatrix_modified.shape)\n",
    "    \n",
    "# Regression\n",
    "bHat = regression(designmatrix_modified, y_example)\n",
    "print(\"\\nbHat:\\t\\t\", bHat)\n"
   ]
  },
  {
   "cell_type": "markdown",
   "metadata": {},
   "source": [
    "## 2.5 Numpy\n",
    "**[5 points]**  Use the least-squares implementation in _numpy_ on the example data to get the parameters for $\\by = \\bX \\bb$  and compare with what you found in 2.2 and 2.4."
   ]
  },
  {
   "cell_type": "code",
   "execution_count": 11,
   "metadata": {},
   "outputs": [
    {
     "name": "stdout",
     "output_type": "stream",
     "text": [
      "\n",
      "bHat:\t\t [ 0.04207626  0.22487111  0.25279771  0.22487111]\n"
     ]
    }
   ],
   "source": [
    "\n",
    "# Numpy linear least squares\n",
    "bHat = np.linalg.lstsq(designmatrix_modified, y_example)[0]\n",
    "print(\"\\nbHat:\\t\\t\", bHat)\n",
    "\n",
    "# As you can see, the answer to bHat differs from the regression() function's answer\n"
   ]
  }
 ],
 "metadata": {
  "kernelspec": {
   "display_name": "Python 3",
   "language": "python",
   "name": "python3"
  },
  "language_info": {
   "codemirror_mode": {
    "name": "ipython",
    "version": 3
   },
   "file_extension": ".py",
   "mimetype": "text/x-python",
   "name": "python",
   "nbconvert_exporter": "python",
   "pygments_lexer": "ipython3",
   "version": "3.5.2"
  }
 },
 "nbformat": 4,
 "nbformat_minor": 1
}
